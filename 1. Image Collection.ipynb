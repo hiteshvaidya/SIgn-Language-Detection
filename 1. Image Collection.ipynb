{
 "cells": [
  {
   "cell_type": "markdown",
   "metadata": {},
   "source": [
    "# 1. Import Dependencies"
   ]
  },
  {
   "cell_type": "code",
   "execution_count": 1,
   "metadata": {},
   "outputs": [
    {
     "name": "stdout",
     "output_type": "stream",
     "text": [
      "Collecting opencv-python\n",
      "  Downloading opencv_python-4.5.1.48-cp39-cp39-win_amd64.whl (34.9 MB)\n",
      "Collecting numpy>=1.19.3\n",
      "  Downloading numpy-1.20.2-cp39-cp39-win_amd64.whl (13.7 MB)\n",
      "Installing collected packages: numpy, opencv-python\n",
      "Successfully installed numpy-1.20.2 opencv-python-4.5.1.48\n"
     ]
    }
   ],
   "source": [
    "!pip install opencv-python"
   ]
  },
  {
   "cell_type": "code",
   "execution_count": 2,
   "metadata": {},
   "outputs": [],
   "source": [
    "# Import opencv\n",
    "import cv2 \n",
    "\n",
    "# Import uuid\n",
    "import uuid\n",
    "\n",
    "# Import Operating System\n",
    "import os\n",
    "\n",
    "# Import time\n",
    "import time"
   ]
  },
  {
   "cell_type": "markdown",
   "metadata": {},
   "source": [
    "# 2. Define Images to Collect"
   ]
  },
  {
   "cell_type": "code",
   "execution_count": 3,
   "metadata": {},
   "outputs": [],
   "source": [
    "labels = ['thumbsup', 'thumbsdown', 'thankyou', 'livelong']\n",
    "number_imgs = 5"
   ]
  },
  {
   "cell_type": "markdown",
   "metadata": {},
   "source": [
    "# 3. Setup Folders "
   ]
  },
  {
   "cell_type": "code",
   "execution_count": 4,
   "metadata": {},
   "outputs": [],
   "source": [
    "IMAGES_PATH = os.path.join('Tensorflow', 'workspace', 'images', 'collectedimages')"
   ]
  },
  {
   "cell_type": "code",
   "execution_count": 7,
   "metadata": {},
   "outputs": [],
   "source": [
    "if not os.path.exists(IMAGES_PATH):\n",
    "    if os.name == 'posix':\n",
    "        !mkdir -p {IMAGES_PATH}\n",
    "    if os.name == 'nt':\n",
    "         !mkdir {IMAGES_PATH}\n",
    "for label in labels:\n",
    "    path = os.path.join(IMAGES_PATH, label)\n",
    "    if not os.path.exists(path):\n",
    "        !mkdir {path}"
   ]
  },
  {
   "cell_type": "markdown",
   "metadata": {},
   "source": [
    "# 4. Capture Images"
   ]
  },
  {
   "cell_type": "code",
   "execution_count": 8,
   "metadata": {},
   "outputs": [
    {
     "name": "stdout",
     "output_type": "stream",
     "text": [
      "Collecting images for thumbsup\n",
      "Collecting image 0\n",
      "Collecting image 1\n",
      "Collecting image 2\n",
      "Collecting image 3\n",
      "Collecting image 4\n",
      "Collecting images for thumbsdown\n",
      "Collecting image 0\n",
      "Collecting image 1\n",
      "Collecting image 2\n",
      "Collecting image 3\n",
      "Collecting image 4\n",
      "Collecting images for thankyou\n",
      "Collecting image 0\n",
      "Collecting image 1\n",
      "Collecting image 2\n",
      "Collecting image 3\n",
      "Collecting image 4\n",
      "Collecting images for livelong\n",
      "Collecting image 0\n",
      "Collecting image 1\n",
      "Collecting image 2\n",
      "Collecting image 3\n",
      "Collecting image 4\n"
     ]
    }
   ],
   "source": [
    "for label in labels:\n",
    "    cap = cv2.VideoCapture(0)\n",
    "    print('Collecting images for {}'.format(label))\n",
    "    time.sleep(5)\n",
    "    for imgnum in range(number_imgs):\n",
    "        print('Collecting image {}'.format(imgnum))\n",
    "        ret, frame = cap.read()\n",
    "        imgname = os.path.join(IMAGES_PATH,label,label+'.'+'{}.jpg'.format(str(uuid.uuid1())))\n",
    "        cv2.imwrite(imgname, frame)\n",
    "        cv2.imshow('frame', frame)\n",
    "        time.sleep(3)\n",
    "\n",
    "        if cv2.waitKey(1) & 0xFF == ord('q'):\n",
    "            break\n",
    "cap.release()\n",
    "cv2.destroyAllWindows()"
   ]
  },
  {
   "cell_type": "markdown",
   "metadata": {},
   "source": [
    "# 5. Image Labelling"
   ]
  },
  {
   "cell_type": "code",
   "execution_count": 9,
   "metadata": {},
   "outputs": [
    {
     "name": "stdout",
     "output_type": "stream",
     "text": [
      "Collecting pyqt5\n",
      "  Downloading PyQt5-5.15.4-cp36.cp37.cp38.cp39-none-win_amd64.whl (6.8 MB)\n",
      "Collecting lxml\n",
      "  Downloading lxml-4.6.3-cp39-cp39-win_amd64.whl (3.5 MB)\n",
      "Collecting PyQt5-Qt5>=5.15\n",
      "  Downloading PyQt5_Qt5-5.15.2-py3-none-win_amd64.whl (50.1 MB)\n",
      "Collecting PyQt5-sip<13,>=12.8\n",
      "  Downloading PyQt5_sip-12.8.1-cp39-cp39-win_amd64.whl (63 kB)\n",
      "Installing collected packages: PyQt5-sip, PyQt5-Qt5, pyqt5, lxml\n",
      "Successfully installed PyQt5-Qt5-5.15.2 PyQt5-sip-12.8.1 lxml-4.6.3 pyqt5-5.15.4\n"
     ]
    }
   ],
   "source": [
    "!pip install --upgrade pyqt5 lxml"
   ]
  },
  {
   "cell_type": "code",
   "execution_count": 10,
   "metadata": {},
   "outputs": [],
   "source": [
    "LABELIMG_PATH = os.path.join('Tensorflow', 'labelimg')"
   ]
  },
  {
   "cell_type": "code",
   "execution_count": 11,
   "metadata": {},
   "outputs": [
    {
     "name": "stderr",
     "output_type": "stream",
     "text": [
      "Cloning into 'Tensorflow\\labelimg'...\n"
     ]
    }
   ],
   "source": [
    "if not os.path.exists(LABELIMG_PATH):\n",
    "    !mkdir {LABELIMG_PATH}\n",
    "    !git clone https://github.com/tzutalin/labelImg {LABELIMG_PATH}"
   ]
  },
  {
   "cell_type": "code",
   "execution_count": 12,
   "metadata": {},
   "outputs": [],
   "source": [
    "if os.name == 'posix':\n",
    "    !make qt5py3\n",
    "if os.name =='nt':\n",
    "    !cd {LABELIMG_PATH} && pyrcc5 -o libs/resources.py resources.qrc"
   ]
  },
  {
   "cell_type": "code",
   "execution_count": 13,
   "metadata": {},
   "outputs": [
    {
     "name": "stdout",
     "output_type": "stream",
     "text": [
      "Image:C:\\Users\\hitesh\\Documents\\GitHub\\Object Detection\\Tensorflow\\workspace\\images\\collectedimages\\livelong\\livelong.95a18859-a2fe-11eb-8c4c-6045cb9b3af8.jpg -> Annotation:C:/Users/hitesh/Documents/GitHub/Object Detection/Tensorflow/workspace/images/collectedimages/livelong/livelong.95a18859-a2fe-11eb-8c4c-6045cb9b3af8.xml\n",
      "Image:C:\\Users\\hitesh\\Documents\\GitHub\\Object Detection\\Tensorflow\\workspace\\images\\collectedimages\\livelong\\livelong.96d706f6-a2fe-11eb-bc48-6045cb9b3af8.jpg -> Annotation:C:/Users/hitesh/Documents/GitHub/Object Detection/Tensorflow/workspace/images/collectedimages/livelong/livelong.96d706f6-a2fe-11eb-bc48-6045cb9b3af8.xml\n",
      "Image:C:\\Users\\hitesh\\Documents\\GitHub\\Object Detection\\Tensorflow\\workspace\\images\\collectedimages\\livelong\\livelong.946aa782-a2fe-11eb-b67a-6045cb9b3af8.jpg -> Annotation:C:/Users/hitesh/Documents/GitHub/Object Detection/Tensorflow/workspace/images/collectedimages/livelong/livelong.946aa782-a2fe-11eb-b67a-6045cb9b3af8.xml\n",
      "Image:C:\\Users\\hitesh\\Documents\\GitHub\\Object Detection\\Tensorflow\\workspace\\images\\collectedimages\\livelong\\livelong.9335e764-a2fe-11eb-b2d4-6045cb9b3af8.jpg -> Annotation:C:/Users/hitesh/Documents/GitHub/Object Detection/Tensorflow/workspace/images/collectedimages/livelong/livelong.9335e764-a2fe-11eb-b2d4-6045cb9b3af8.xml\n",
      "Image:C:\\Users\\hitesh\\Documents\\GitHub\\Object Detection\\Tensorflow\\workspace\\images\\collectedimages\\livelong\\livelong.920237f2-a2fe-11eb-a324-6045cb9b3af8.jpg -> Annotation:C:/Users/hitesh/Documents/GitHub/Object Detection/Tensorflow/workspace/images/collectedimages/livelong/livelong.920237f2-a2fe-11eb-a324-6045cb9b3af8.xml\n",
      "Image:C:\\Users\\hitesh\\Documents\\GitHub\\Object Detection\\Tensorflow\\workspace\\images\\collectedimages\\thankyou\\thank-you-in-sign-language.jpg -> Annotation:C:/Users/hitesh/Documents/GitHub/Object Detection/Tensorflow/workspace/images/collectedimages/thankyou/thank-you-in-sign-language.xml\n",
      "Image:C:\\Users\\hitesh\\Documents\\GitHub\\Object Detection\\Tensorflow\\workspace\\images\\collectedimages\\thankyou\\thankyou.8b181c60-a2fe-11eb-801c-6045cb9b3af8.jpg -> Annotation:C:/Users/hitesh/Documents/GitHub/Object Detection/Tensorflow/workspace/images/collectedimages/thankyou/thankyou.8b181c60-a2fe-11eb-801c-6045cb9b3af8.xml\n",
      "Image:C:\\Users\\hitesh\\Documents\\GitHub\\Object Detection\\Tensorflow\\workspace\\images\\collectedimages\\thankyou\\thankyou.8c4f329e-a2fe-11eb-b4cc-6045cb9b3af8.jpg -> Annotation:C:/Users/hitesh/Documents/GitHub/Object Detection/Tensorflow/workspace/images/collectedimages/thankyou/thankyou.8c4f329e-a2fe-11eb-b4cc-6045cb9b3af8.xml\n",
      "Image:C:\\Users\\hitesh\\Documents\\GitHub\\Object Detection\\Tensorflow\\workspace\\images\\collectedimages\\thankyou\\thankyou.88abd287-a2fe-11eb-add4-6045cb9b3af8.jpg -> Annotation:C:/Users/hitesh/Documents/GitHub/Object Detection/Tensorflow/workspace/images/collectedimages/thankyou/thankyou.88abd287-a2fe-11eb-add4-6045cb9b3af8.xml\n",
      "Image:C:\\Users\\hitesh\\Documents\\GitHub\\Object Detection\\Tensorflow\\workspace\\images\\collectedimages\\thankyou\\thankyou.8776b741-a2fe-11eb-805e-6045cb9b3af8.jpg -> Annotation:C:/Users/hitesh/Documents/GitHub/Object Detection/Tensorflow/workspace/images/collectedimages/thankyou/thankyou.8776b741-a2fe-11eb-805e-6045cb9b3af8.xml\n",
      "Cancel creation.\n",
      "Image:C:\\Users\\hitesh\\Documents\\GitHub\\Object Detection\\Tensorflow\\workspace\\images\\collectedimages\\thumbsdown\\thumbsdown.7cfe4122-a2fe-11eb-834b-6045cb9b3af8.jpg -> Annotation:C:/Users/hitesh/Documents/GitHub/Object Detection/Tensorflow/workspace/images/collectedimages/thumbsdown/thumbsdown.7cfe4122-a2fe-11eb-834b-6045cb9b3af8.xml\n",
      "Image:C:\\Users\\hitesh\\Documents\\GitHub\\Object Detection\\Tensorflow\\workspace\\images\\collectedimages\\thumbsdown\\thumbsdown.7e34d487-a2fe-11eb-8e24-6045cb9b3af8.jpg -> Annotation:C:/Users/hitesh/Documents/GitHub/Object Detection/Tensorflow/workspace/images/collectedimages/thumbsdown/thumbsdown.7e34d487-a2fe-11eb-8e24-6045cb9b3af8.xml\n",
      "Image:C:\\Users\\hitesh\\Documents\\GitHub\\Object Detection\\Tensorflow\\workspace\\images\\collectedimages\\thumbsdown\\thumbsdown.7f6a15e5-a2fe-11eb-8315-6045cb9b3af8.jpg -> Annotation:C:/Users/hitesh/Documents/GitHub/Object Detection/Tensorflow/workspace/images/collectedimages/thumbsdown/thumbsdown.7f6a15e5-a2fe-11eb-8315-6045cb9b3af8.xml\n",
      "Image:C:\\Users\\hitesh\\Documents\\GitHub\\Object Detection\\Tensorflow\\workspace\\images\\collectedimages\\thumbsdown\\thumbsdown.81d45b00-a2fe-11eb-82c9-6045cb9b3af8.jpg -> Annotation:C:/Users/hitesh/Documents/GitHub/Object Detection/Tensorflow/workspace/images/collectedimages/thumbsdown/thumbsdown.81d45b00-a2fe-11eb-82c9-6045cb9b3af8.xml\n",
      "Image:C:\\Users\\hitesh\\Documents\\GitHub\\Object Detection\\Tensorflow\\workspace\\images\\collectedimages\\thumbsdown\\thumbsdown.809f9ca4-a2fe-11eb-a975-6045cb9b3af8.jpg -> Annotation:C:/Users/hitesh/Documents/GitHub/Object Detection/Tensorflow/workspace/images/collectedimages/thumbsdown/thumbsdown.809f9ca4-a2fe-11eb-a975-6045cb9b3af8.xml\n",
      "Image:C:\\Users\\hitesh\\Documents\\GitHub\\Object Detection\\Tensorflow\\workspace\\images\\collectedimages\\thumbsup\\1_IlMwZXxtfkRmxre0jbikaw.jpeg -> Annotation:C:/Users/hitesh/Documents/GitHub/Object Detection/Tensorflow/workspace/images/collectedimages/thumbsup/1_IlMwZXxtfkRmxre0jbikaw.xml\n",
      "Image:C:\\Users\\hitesh\\Documents\\GitHub\\Object Detection\\Tensorflow\\workspace\\images\\collectedimages\\thumbsup\\5ff388e95208d.jpg -> Annotation:C:/Users/hitesh/Documents/GitHub/Object Detection/Tensorflow/workspace/images/collectedimages/thumbsup/5ff388e95208d.xml\n",
      "Image:C:\\Users\\hitesh\\Documents\\GitHub\\Object Detection\\Tensorflow\\workspace\\images\\collectedimages\\thumbsup\\thumbsup.73b82c11-a2fe-11eb-8001-6045cb9b3af8.jpg -> Annotation:C:/Users/hitesh/Documents/GitHub/Object Detection/Tensorflow/workspace/images/collectedimages/thumbsup/thumbsup.73b82c11-a2fe-11eb-8001-6045cb9b3af8.xml\n",
      "Image:C:\\Users\\hitesh\\Documents\\GitHub\\Object Detection\\Tensorflow\\workspace\\images\\collectedimages\\thumbsup\\thumbsup.775a4a71-a2fe-11eb-837a-6045cb9b3af8.jpg -> Annotation:C:/Users/hitesh/Documents/GitHub/Object Detection/Tensorflow/workspace/images/collectedimages/thumbsup/thumbsup.775a4a71-a2fe-11eb-837a-6045cb9b3af8.xml\n",
      "Image:C:\\Users\\hitesh\\Documents\\GitHub\\Object Detection\\Tensorflow\\workspace\\images\\collectedimages\\thumbsup\\thumbsup.72832e84-a2fe-11eb-8b4c-6045cb9b3af8.jpg -> Annotation:C:/Users/hitesh/Documents/GitHub/Object Detection/Tensorflow/workspace/images/collectedimages/thumbsup/thumbsup.72832e84-a2fe-11eb-8b4c-6045cb9b3af8.xml\n"
     ]
    },
    {
     "name": "stderr",
     "output_type": "stream",
     "text": [
      "C:\\Users\\hitesh\\Documents\\GitHub\\Object Detection\\Tensorflow\\labelimg\\labelImg.py:948: DeprecationWarning: an integer is required (got type float).  Implicit conversion to integers using __int__ is deprecated, and may be removed in a future version of Python.\n",
      "  bar.setValue(bar.value() + bar.singleStep() * units)\n",
      "C:\\Users\\hitesh\\Documents\\GitHub\\Object Detection\\Tensorflow\\labelimg\\labelImg.py:954: DeprecationWarning: an integer is required (got type float).  Implicit conversion to integers using __int__ is deprecated, and may be removed in a future version of Python.\n",
      "  self.zoom_widget.setValue(value)\n",
      "C:\\Users\\hitesh\\Documents\\GitHub\\Object Detection\\Tensorflow\\labelimg\\labelImg.py:1008: DeprecationWarning: an integer is required (got type float).  Implicit conversion to integers using __int__ is deprecated, and may be removed in a future version of Python.\n",
      "  h_bar.setValue(new_h_bar_value)\n",
      "C:\\Users\\hitesh\\Documents\\GitHub\\Object Detection\\Tensorflow\\labelimg\\labelImg.py:1009: DeprecationWarning: an integer is required (got type float).  Implicit conversion to integers using __int__ is deprecated, and may be removed in a future version of Python.\n",
      "  v_bar.setValue(new_v_bar_value)\n"
     ]
    }
   ],
   "source": [
    "!cd {LABELIMG_PATH} && python labelImg.py"
   ]
  },
  {
   "cell_type": "markdown",
   "metadata": {},
   "source": [
    "# 6. Move them into a Training and Testing Partition"
   ]
  },
  {
   "cell_type": "markdown",
   "metadata": {},
   "source": [
    "# OPTIONAL - 7. Compress them for Colab Training"
   ]
  },
  {
   "cell_type": "code",
   "execution_count": 20,
   "metadata": {},
   "outputs": [],
   "source": [
    "TRAIN_PATH = os.path.join('Tensorflow', 'workspace', 'images', 'train')\n",
    "TEST_PATH = os.path.join('Tensorflow', 'workspace', 'images', 'test')\n",
    "ARCHIVE_PATH = os.path.join('Tensorflow', 'workspace', 'images', 'archive.tar.gz')"
   ]
  },
  {
   "cell_type": "code",
   "execution_count": 21,
   "metadata": {},
   "outputs": [],
   "source": [
    "!tar -czf {ARCHIVE_PATH} {TRAIN_PATH} {TEST_PATH}"
   ]
  },
  {
   "cell_type": "code",
   "execution_count": null,
   "metadata": {},
   "outputs": [],
   "source": []
  }
 ],
 "metadata": {
  "kernelspec": {
   "display_name": "tfodj",
   "language": "python",
   "name": "tfodj"
  },
  "language_info": {
   "codemirror_mode": {
    "name": "ipython",
    "version": 3
   },
   "file_extension": ".py",
   "mimetype": "text/x-python",
   "name": "python",
   "nbconvert_exporter": "python",
   "pygments_lexer": "ipython3",
   "version": "3.9.2"
  }
 },
 "nbformat": 4,
 "nbformat_minor": 2
}